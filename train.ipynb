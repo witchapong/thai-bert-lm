{
 "cells": [
  {
   "cell_type": "code",
   "execution_count": 15,
   "metadata": {},
   "outputs": [],
   "source": [
    "import pandas as pd\n",
    "\n",
    "df = pd.read_csv('src/thwiki.csv')\n",
    "\n",
    "df = df[~df.text.isna()]\n",
    "txt = '\\n'.join(df.text.values)\n",
    "\n",
    "with open('src/thwiki.txt','w') as f:\n",
    "    f.write(txt)\n",
    "    f.close()"
   ]
  },
  {
   "cell_type": "code",
   "execution_count": null,
   "metadata": {},
   "outputs": [],
   "source": [
    "from pathlib import Path\n",
    "from tokenizers import ByteLevelBPETokenizer"
   ]
  },
  {
   "cell_type": "code",
   "execution_count": 16,
   "metadata": {},
   "outputs": [
    {
     "name": "stdout",
     "output_type": "stream",
     "text": [
      "CPU times: user 8min 1s, sys: 46.9 s, total: 8min 48s\n",
      "Wall time: 5min 1s\n"
     ]
    }
   ],
   "source": [
    "%%time \n",
    "tokenizer = ByteLevelBPETokenizer()\n",
    "\n",
    "tokenizer.train(files=['src/thwiki.txt'], vocab_size=20_000, min_frequency=2, special_tokens=[\n",
    "    \"<s>\",\n",
    "    \"<pad>\",\n",
    "    \"</s>\",\n",
    "    \"<unk>\",\n",
    "    \"<mask>\",\n",
    "])"
   ]
  },
  {
   "cell_type": "code",
   "execution_count": 32,
   "metadata": {},
   "outputs": [
    {
     "data": {
      "text/plain": [
       "['ThaiBert/vocab.json', 'ThaiBert/merges.txt']"
      ]
     },
     "execution_count": 32,
     "metadata": {},
     "output_type": "execute_result"
    }
   ],
   "source": [
    "tokenizer.save(\"ThaiBert\")"
   ]
  },
  {
   "cell_type": "code",
   "execution_count": 33,
   "metadata": {},
   "outputs": [],
   "source": [
    "from tokenizers.implementations import ByteLevelBPETokenizer\n",
    "from tokenizers.processors import BertProcessing\n",
    "\n",
    "\n",
    "tokenizer = ByteLevelBPETokenizer(\n",
    "    \"./ThaiBert/vocab.json\",\n",
    "    \"./ThaiBert/merges.txt\",\n",
    ")"
   ]
  },
  {
   "cell_type": "code",
   "execution_count": 34,
   "metadata": {},
   "outputs": [],
   "source": [
    "tokenizer._tokenizer.post_processor = BertProcessing(\n",
    "    (\"</s>\", tokenizer.token_to_id(\"</s>\")),\n",
    "    (\"<s>\", tokenizer.token_to_id(\"<s>\")),\n",
    ")\n",
    "tokenizer.enable_truncation(max_length=512)"
   ]
  },
  {
   "cell_type": "code",
   "execution_count": 35,
   "metadata": {},
   "outputs": [
    {
     "data": {
      "text/plain": [
       "['<s>',\n",
       " 'à¸ªà¸§',\n",
       " 'à¸±',\n",
       " 'à¸ªà¸Ķ',\n",
       " 'à¸µ',\n",
       " 'à¸Ĭà¸²à¸§',\n",
       " 'à¹Ĥà¸¥à¸ģ',\n",
       " 'Ġà¸§',\n",
       " 'à¸±',\n",
       " 'à¸Ļà¸Ļ',\n",
       " 'à¸µà¹ī',\n",
       " 'à¹Ģà¸£à¸²à¸Īà¸°',\n",
       " 'à¸¡à¸²',\n",
       " 'à¹Ģà¸Ĺà¸£',\n",
       " 'à¸Ļ',\n",
       " 'Ġmod',\n",
       " 'el',\n",
       " 'ĠB',\n",
       " 'ER',\n",
       " 'T',\n",
       " 'Ġà¸ģ',\n",
       " 'à¸±',\n",
       " 'à¸Ļà¹Ĥà¸Ķà¸¢à¹ĥà¸Ĭ',\n",
       " 'à¹ī',\n",
       " 'Ġli',\n",
       " 'br',\n",
       " 'ary',\n",
       " 'ĠH',\n",
       " 'ug',\n",
       " 'g',\n",
       " 'ing',\n",
       " 'face',\n",
       " '</s>']"
      ]
     },
     "execution_count": 35,
     "metadata": {},
     "output_type": "execute_result"
    }
   ],
   "source": [
    "test_txt = \"สวัสดีชาวโลก วันนี้เราจะมาเทรน model BERT กันโดยใช้ library Huggingface\"\n",
    "tokenizer.encode(test_txt).tokens"
   ]
  },
  {
   "cell_type": "code",
   "execution_count": 36,
   "metadata": {},
   "outputs": [
    {
     "data": {
      "text/plain": [
       "'<s>สวัสดีชาวโลก วันนี้เราจะมาเทรน model BERT กันโดยใช้ library Huggingface</s>'"
      ]
     },
     "execution_count": 36,
     "metadata": {},
     "output_type": "execute_result"
    }
   ],
   "source": [
    "tokenizer.decode(tokenizer.encode(test_txt).ids)"
   ]
  },
  {
   "cell_type": "code",
   "execution_count": 37,
   "metadata": {},
   "outputs": [],
   "source": [
    "import json\n",
    "config = {\n",
    "    \"architectures\": [\n",
    "        \"RobertaForMaskedLM\"\n",
    "    ],\n",
    "    \"attention_probs_dropout_prob\": 0.1,\n",
    "    \"hidden_act\": \"gelu\",\n",
    "    \"hidden_dropout_prob\": 0.1,\n",
    "    \"hidden_size\": 768,\n",
    "    \"initializer_range\": 0.02,\n",
    "    \"intermediate_size\": 3072,\n",
    "    \"layer_norm_eps\": 1e-05,\n",
    "    \"max_position_embeddings\": 514,\n",
    "    \"model_type\": \"roberta\",\n",
    "    \"num_attention_heads\": 12,\n",
    "    \"num_hidden_layers\": 6,\n",
    "    \"type_vocab_size\": 1,\n",
    "    \"vocab_size\": 25_000\n",
    "}\n",
    "with open(\"./ThaiBert/config.json\", 'w') as fp:\n",
    "    json.dump(config, fp)\n",
    "\n",
    "tokenizer_config = {\n",
    "    \"max_len\": 512\n",
    "}\n",
    "with open(\"./ThaiBert/tokenizer_config.json\", 'w') as fp:\n",
    "    json.dump(tokenizer_config, fp)"
   ]
  },
  {
   "cell_type": "code",
   "execution_count": 40,
   "metadata": {},
   "outputs": [],
   "source": [
    "cmd =\"\"\"\n",
    "    python run_language_modeling.py\n",
    "    --train_data_file ./src/thwiki.txt\n",
    "    --output_dir ./ThaiBertModel\n",
    "    --model_type roberta\n",
    "    --mlm\n",
    "    --config_name ./ThaiBert\n",
    "    --tokenizer_name ./ThaiBert\n",
    "    --do_train\n",
    "    --learning_rate 1e-4\n",
    "    --num_train_epochs 5\n",
    "    --save_total_limit 2\n",
    "    --save_steps 2000\n",
    "    --per_gpu_train_batch_size 16\n",
    "    \"\"\".replace(\"\\n\", \" \")"
   ]
  },
  {
   "cell_type": "code",
   "execution_count": null,
   "metadata": {},
   "outputs": [],
   "source": []
  }
 ],
 "metadata": {
  "kernelspec": {
   "display_name": "Python 3",
   "language": "python",
   "name": "python3"
  },
  "language_info": {
   "codemirror_mode": {
    "name": "ipython",
    "version": 3
   },
   "file_extension": ".py",
   "mimetype": "text/x-python",
   "name": "python",
   "nbconvert_exporter": "python",
   "pygments_lexer": "ipython3",
   "version": "3.7.3"
  },
  "toc": {
   "base_numbering": 1,
   "nav_menu": {},
   "number_sections": true,
   "sideBar": true,
   "skip_h1_title": false,
   "title_cell": "Table of Contents",
   "title_sidebar": "Contents",
   "toc_cell": false,
   "toc_position": {},
   "toc_section_display": true,
   "toc_window_display": false
  }
 },
 "nbformat": 4,
 "nbformat_minor": 2
}
