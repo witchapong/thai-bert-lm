{
 "cells": [
  {
   "cell_type": "code",
   "execution_count": 15,
   "metadata": {},
   "outputs": [],
   "source": [
    "import pandas as pd\n",
    "\n",
    "df = pd.read_csv('src/thwiki.csv')\n",
    "\n",
    "df = df[~df.text.isna()]\n",
    "txt = '\\n'.join(df.text.values)\n",
    "\n",
    "with open('src/thwiki.txt','w') as f:\n",
    "    f.write(txt)\n",
    "    f.close()"
   ]
  },
  {
   "cell_type": "code",
   "execution_count": 42,
   "metadata": {},
   "outputs": [
    {
     "data": {
      "text/plain": [
       "944329"
      ]
     },
     "execution_count": 42,
     "metadata": {},
     "output_type": "execute_result"
    }
   ],
   "source": [
    "# some text clean up\n",
    "src_file = Path('src/thwiki.txt')\n",
    "lines = src_file.read_text(encoding='utf-8').splitlines()\n",
    "len(lines)"
   ]
  },
  {
   "cell_type": "code",
   "execution_count": 43,
   "metadata": {},
   "outputs": [
    {
     "data": {
      "text/plain": [
       "690987"
      ]
     },
     "execution_count": 43,
     "metadata": {},
     "output_type": "execute_result"
    }
   ],
   "source": [
    "# get rid of topic/header text \n",
    "lines = [line for line in lines if ' ' in line]\n",
    "len(lines)"
   ]
  },
  {
   "cell_type": "code",
   "execution_count": 51,
   "metadata": {},
   "outputs": [],
   "source": [
    "txt = '\\n'.join(lines)\n",
    "\n",
    "with open('src/thwiki_clean.txt','w') as f:\n",
    "    f.write(txt)\n",
    "    f.close()"
   ]
  },
  {
   "cell_type": "code",
   "execution_count": 52,
   "metadata": {},
   "outputs": [],
   "source": [
    "from pathlib import Path\n",
    "from tokenizers import ByteLevelBPETokenizer\n",
    "from tokenizers.implementations import ByteLevelBPETokenizer\n",
    "from tokenizers.processors import BertProcessing"
   ]
  },
  {
   "cell_type": "code",
   "execution_count": 53,
   "metadata": {},
   "outputs": [
    {
     "name": "stdout",
     "output_type": "stream",
     "text": [
      "CPU times: user 7min 54s, sys: 43.2 s, total: 8min 37s\n",
      "Wall time: 5min 2s\n"
     ]
    }
   ],
   "source": [
    "%%time \n",
    "tokenizer = ByteLevelBPETokenizer()\n",
    "\n",
    "tokenizer.train(files=['src/thwiki_clean.txt'], vocab_size=20_000, min_frequency=2, special_tokens=[\n",
    "    \"<s>\",\n",
    "    \"<pad>\",\n",
    "    \"</s>\",\n",
    "    \"<unk>\",\n",
    "    \"<mask>\",\n",
    "])"
   ]
  },
  {
   "cell_type": "code",
   "execution_count": 54,
   "metadata": {},
   "outputs": [
    {
     "data": {
      "text/plain": [
       "['ThaiBert/vocab.json', 'ThaiBert/merges.txt']"
      ]
     },
     "execution_count": 54,
     "metadata": {},
     "output_type": "execute_result"
    }
   ],
   "source": [
    "tokenizer.save(\"ThaiBert\")"
   ]
  },
  {
   "cell_type": "code",
   "execution_count": 55,
   "metadata": {},
   "outputs": [],
   "source": [
    "tokenizer = ByteLevelBPETokenizer(\n",
    "    \"./ThaiBert/vocab.json\",\n",
    "    \"./ThaiBert/merges.txt\",\n",
    ")"
   ]
  },
  {
   "cell_type": "code",
   "execution_count": 56,
   "metadata": {},
   "outputs": [],
   "source": [
    "tokenizer._tokenizer.post_processor = BertProcessing(\n",
    "    (\"</s>\", tokenizer.token_to_id(\"</s>\")),\n",
    "    (\"<s>\", tokenizer.token_to_id(\"<s>\")),\n",
    ")\n",
    "tokenizer.enable_truncation(max_length=512)"
   ]
  },
  {
   "cell_type": "code",
   "execution_count": 57,
   "metadata": {},
   "outputs": [
    {
     "data": {
      "text/plain": [
       "['<s>',\n",
       " 'à¸ªà¸§',\n",
       " 'à¸±',\n",
       " 'à¸ªà¸Ķ',\n",
       " 'à¸µ',\n",
       " 'à¸Ĭà¸²à¸§',\n",
       " 'à¹Ĥà¸¥à¸ģ',\n",
       " 'Ġà¸§',\n",
       " 'à¸±',\n",
       " 'à¸Ļà¸Ļ',\n",
       " 'à¸µà¹ī',\n",
       " 'à¹Ģà¸£à¸²à¸Īà¸°',\n",
       " 'à¸¡à¸²',\n",
       " 'à¹Ģà¸Ĺà¸£',\n",
       " 'à¸Ļ',\n",
       " 'Ġmod',\n",
       " 'el',\n",
       " 'ĠB',\n",
       " 'ER',\n",
       " 'T',\n",
       " 'Ġà¸ģ',\n",
       " 'à¸±',\n",
       " 'à¸Ļà¹Ĥà¸Ķà¸¢à¹ĥà¸Ĭ',\n",
       " 'à¹ī',\n",
       " 'Ġli',\n",
       " 'br',\n",
       " 'ary',\n",
       " 'ĠH',\n",
       " 'ug',\n",
       " 'g',\n",
       " 'ing',\n",
       " 'face',\n",
       " '</s>']"
      ]
     },
     "execution_count": 57,
     "metadata": {},
     "output_type": "execute_result"
    }
   ],
   "source": [
    "test_txt = \"สวัสดีชาวโลก วันนี้เราจะมาเทรน model BERT กันโดยใช้ library Huggingface\"\n",
    "tokenizer.encode(test_txt).tokens"
   ]
  },
  {
   "cell_type": "code",
   "execution_count": 58,
   "metadata": {},
   "outputs": [
    {
     "data": {
      "text/plain": [
       "'<s>สวัสดีชาวโลก วันนี้เราจะมาเทรน model BERT กันโดยใช้ library Huggingface</s>'"
      ]
     },
     "execution_count": 58,
     "metadata": {},
     "output_type": "execute_result"
    }
   ],
   "source": [
    "tokenizer.decode(tokenizer.encode(test_txt).ids)"
   ]
  },
  {
   "cell_type": "code",
   "execution_count": 71,
   "metadata": {},
   "outputs": [],
   "source": [
    "import json\n",
    "\n",
    "# preparing model config\n",
    "config = {\n",
    "    \"architectures\": [\n",
    "        \"RobertaForMaskedLM\"\n",
    "    ],\n",
    "    \"max_position_embeddings\": 514,\n",
    "    \"vocab_size\": 25_000\n",
    "}\n",
    "with open(\"./ThaiBert/config.json\", 'w') as fp:\n",
    "    json.dump(config, fp)\n",
    "\n",
    "# preparing tokenizer config\n",
    "tokenizer_config = {\n",
    "    \"max_len\": 512\n",
    "}\n",
    "with open(\"./ThaiBert/tokenizer_config.json\", 'w') as fp:\n",
    "    json.dump(tokenizer_config, fp)\n",
    "\n",
    "# preparing train command\n",
    "cmd =\"\"\"\n",
    "#! /bin/bash\n",
    "python run_language_modeling.py\n",
    "--train_data_file ./src/thwiki.txt\n",
    "--output_dir ./ThaiBertModel\n",
    "--model_type roberta\n",
    "--mlm\n",
    "--config_name ./ThaiBert\n",
    "--tokenizer_name ./ThaiBert\n",
    "--do_train\n",
    "--learning_rate 1e-4\n",
    "--pct_warmup 0.3\n",
    "--num_train_epochs 10\n",
    "--save_total_limit 2\n",
    "--save_steps 2000\n",
    "--per_gpu_train_batch_size 16\n",
    "\"\"\".replace(\"\\n\", \" \")\n",
    "\n",
    "with open('./train-model','w') as fp:\n",
    "    fp.write(cmd)"
   ]
  },
  {
   "cell_type": "code",
   "execution_count": null,
   "metadata": {},
   "outputs": [],
   "source": []
  },
  {
   "cell_type": "markdown",
   "metadata": {},
   "source": [
    "# Find learning rate"
   ]
  },
  {
   "cell_type": "code",
   "execution_count": 80,
   "metadata": {},
   "outputs": [],
   "source": [
    "import argparse\n",
    "import glob\n",
    "import logging\n",
    "import os\n",
    "import pickle\n",
    "import random\n",
    "import re\n",
    "import shutil\n",
    "from typing import Dict, List, Tuple\n",
    "\n",
    "import numpy as np\n",
    "import torch\n",
    "from torch.nn.utils.rnn import pad_sequence\n",
    "from torch.utils.data import DataLoader, Dataset, RandomSampler, SequentialSampler\n",
    "from torch.utils.data.distributed import DistributedSampler\n",
    "from tqdm import tqdm, trange\n",
    "\n",
    "from transformers import (\n",
    "    WEIGHTS_NAME,\n",
    "    AdamW,\n",
    "    BertConfig,\n",
    "    BertForMaskedLM,\n",
    "    BertTokenizer,\n",
    "    CamembertConfig,\n",
    "    CamembertForMaskedLM,\n",
    "    CamembertTokenizer,\n",
    "    DistilBertConfig,\n",
    "    DistilBertForMaskedLM,\n",
    "    DistilBertTokenizer,\n",
    "    GPT2Config,\n",
    "    GPT2LMHeadModel,\n",
    "    GPT2Tokenizer,\n",
    "    OpenAIGPTConfig,\n",
    "    OpenAIGPTLMHeadModel,\n",
    "    OpenAIGPTTokenizer,\n",
    "    PreTrainedModel,\n",
    "    PreTrainedTokenizer,\n",
    "    RobertaConfig,\n",
    "    RobertaForMaskedLM,\n",
    "    RobertaTokenizer,\n",
    "    get_linear_schedule_with_warmup,\n",
    ")"
   ]
  },
  {
   "cell_type": "code",
   "execution_count": 69,
   "metadata": {},
   "outputs": [],
   "source": [
    "MODEL_CLASSES = {\n",
    "    \"gpt2\": (GPT2Config, GPT2LMHeadModel, GPT2Tokenizer),\n",
    "    \"openai-gpt\": (OpenAIGPTConfig, OpenAIGPTLMHeadModel, OpenAIGPTTokenizer),\n",
    "    \"bert\": (BertConfig, BertForMaskedLM, BertTokenizer),\n",
    "    \"roberta\": (RobertaConfig, RobertaForMaskedLM, RobertaTokenizer),\n",
    "    \"distilbert\": (DistilBertConfig, DistilBertForMaskedLM, DistilBertTokenizer),\n",
    "    \"camembert\": (CamembertConfig, CamembertForMaskedLM, CamembertTokenizer),\n",
    "}"
   ]
  },
  {
   "cell_type": "code",
   "execution_count": 70,
   "metadata": {},
   "outputs": [],
   "source": [
    "# load model & tokenizer class\n",
    "config_class, model_class, tokenizer_class = MODEL_CLASSES[\"roberta\"]"
   ]
  },
  {
   "cell_type": "code",
   "execution_count": 72,
   "metadata": {},
   "outputs": [
    {
     "name": "stderr",
     "output_type": "stream",
     "text": [
      "I0323 06:42:33.139810 4364248512 configuration_utils.py:277] loading configuration file ./ThaiBert/config.json\n",
      "I0323 06:42:33.141808 4364248512 configuration_utils.py:315] Model config RobertaConfig {\n",
      "  \"_num_labels\": 2,\n",
      "  \"architectures\": [\n",
      "    \"RobertaForMaskedLM\"\n",
      "  ],\n",
      "  \"attention_probs_dropout_prob\": 0.1,\n",
      "  \"bos_token_id\": null,\n",
      "  \"do_sample\": false,\n",
      "  \"early_stopping\": false,\n",
      "  \"eos_token_ids\": null,\n",
      "  \"finetuning_task\": null,\n",
      "  \"hidden_act\": \"gelu\",\n",
      "  \"hidden_dropout_prob\": 0.1,\n",
      "  \"hidden_size\": 768,\n",
      "  \"id2label\": {\n",
      "    \"0\": \"LABEL_0\",\n",
      "    \"1\": \"LABEL_1\"\n",
      "  },\n",
      "  \"initializer_range\": 0.02,\n",
      "  \"intermediate_size\": 3072,\n",
      "  \"is_decoder\": false,\n",
      "  \"is_encoder_decoder\": false,\n",
      "  \"label2id\": {\n",
      "    \"LABEL_0\": 0,\n",
      "    \"LABEL_1\": 1\n",
      "  },\n",
      "  \"layer_norm_eps\": 1e-12,\n",
      "  \"length_penalty\": 1.0,\n",
      "  \"max_length\": 20,\n",
      "  \"max_position_embeddings\": 514,\n",
      "  \"min_length\": 0,\n",
      "  \"model_type\": \"roberta\",\n",
      "  \"no_repeat_ngram_size\": 0,\n",
      "  \"num_attention_heads\": 12,\n",
      "  \"num_beams\": 1,\n",
      "  \"num_hidden_layers\": 12,\n",
      "  \"num_return_sequences\": 1,\n",
      "  \"output_attentions\": false,\n",
      "  \"output_hidden_states\": false,\n",
      "  \"output_past\": true,\n",
      "  \"pad_token_id\": null,\n",
      "  \"pruned_heads\": {},\n",
      "  \"repetition_penalty\": 1.0,\n",
      "  \"temperature\": 1.0,\n",
      "  \"top_k\": 50,\n",
      "  \"top_p\": 1.0,\n",
      "  \"torchscript\": false,\n",
      "  \"type_vocab_size\": 2,\n",
      "  \"use_bfloat16\": false,\n",
      "  \"vocab_size\": 25000\n",
      "}\n",
      "\n"
     ]
    }
   ],
   "source": [
    "# load model config from .json file\n",
    "config = config_class.from_pretrained('./ThaiBert', cache_dir=None)"
   ]
  },
  {
   "cell_type": "code",
   "execution_count": 73,
   "metadata": {},
   "outputs": [
    {
     "name": "stderr",
     "output_type": "stream",
     "text": [
      "I0323 06:44:24.790025 4364248512 tokenization_utils.py:420] Model name './ThaiBert' not found in model shortcut name list (roberta-base, roberta-large, roberta-large-mnli, distilroberta-base, roberta-base-openai-detector, roberta-large-openai-detector). Assuming './ThaiBert' is a path, a model identifier, or url to a directory containing tokenizer files.\n",
      "I0323 06:44:24.791359 4364248512 tokenization_utils.py:449] Didn't find file ./ThaiBert/added_tokens.json. We won't load it.\n",
      "I0323 06:44:24.793643 4364248512 tokenization_utils.py:449] Didn't find file ./ThaiBert/special_tokens_map.json. We won't load it.\n",
      "I0323 06:44:24.794605 4364248512 tokenization_utils.py:502] loading file ./ThaiBert/vocab.json\n",
      "I0323 06:44:24.795073 4364248512 tokenization_utils.py:502] loading file ./ThaiBert/merges.txt\n",
      "I0323 06:44:24.795552 4364248512 tokenization_utils.py:502] loading file None\n",
      "I0323 06:44:24.796000 4364248512 tokenization_utils.py:502] loading file None\n",
      "I0323 06:44:24.796465 4364248512 tokenization_utils.py:502] loading file ./ThaiBert/tokenizer_config.json\n"
     ]
    }
   ],
   "source": [
    "# load tokenizer\n",
    "tokenizer = tokenizer_class.from_pretrained('./ThaiBert', cache_dir=None)"
   ]
  },
  {
   "cell_type": "code",
   "execution_count": 77,
   "metadata": {},
   "outputs": [],
   "source": [
    "block_size = tokenizer.max_len"
   ]
  },
  {
   "cell_type": "code",
   "execution_count": 75,
   "metadata": {},
   "outputs": [],
   "source": [
    "# load model\n",
    "model = model_class(config=config)"
   ]
  },
  {
   "cell_type": "code",
   "execution_count": 82,
   "metadata": {},
   "outputs": [],
   "source": [
    "class LineByLineTextDataset(Dataset):\n",
    "    def __init__(self, tokenizer: PreTrainedTokenizer, file_path: str, block_size=512):\n",
    "        assert os.path.isfile(file_path)\n",
    "        # Here, we do not cache the features, operating under the assumption\n",
    "        # that we will soon use fast multithreaded tokenizers from the\n",
    "        # `tokenizers` repo everywhere =)\n",
    "\n",
    "        with open(file_path, encoding=\"utf-8\") as f:\n",
    "            lines = [line for line in f.read().splitlines() if (len(line) > 0 and not line.isspace())]\n",
    "\n",
    "        self.examples = tokenizer.batch_encode_plus(lines, add_special_tokens=True, max_length=block_size)[\"input_ids\"]\n",
    "\n",
    "    def __len__(self):\n",
    "        return len(self.examples)\n",
    "\n",
    "    def __getitem__(self, i):\n",
    "        return torch.tensor(self.examples[i], dtype=torch.long)"
   ]
  },
  {
   "cell_type": "code",
   "execution_count": 83,
   "metadata": {},
   "outputs": [],
   "source": [
    "file_path = \"./src/thwiki.txt\"\n",
    "train_dataset = LineByLineTextDataset(tokenizer, file_path=file_path, block_size=block_size)"
   ]
  },
  {
   "cell_type": "code",
   "execution_count": 84,
   "metadata": {},
   "outputs": [],
   "source": [
    "train_batch_size = 8\n",
    "def collate(examples: List[torch.Tensor]):\n",
    "    if tokenizer._pad_token is None:\n",
    "        return pad_sequence(examples, batch_first=True)\n",
    "    return pad_sequence(examples, batch_first=True, padding_value=tokenizer.pad_token_id)\n",
    "\n",
    "train_sampler = RandomSampler(train_dataset)\n",
    "train_dataloader = DataLoader(\n",
    "    train_dataset, sampler=train_sampler, batch_size=train_batch_size, collate_fn=collate\n",
    ")"
   ]
  },
  {
   "cell_type": "code",
   "execution_count": 85,
   "metadata": {},
   "outputs": [],
   "source": [
    "no_decay = [\"bias\", \"LayerNorm.weight\"]\n",
    "optimizer_grouped_parameters = [\n",
    "    {\n",
    "        \"params\": [p for n, p in model.named_parameters() if not any(nd in n for nd in no_decay)],\n",
    "        \"weight_decay\": 0,\n",
    "    },\n",
    "    {\"params\": [p for n, p in model.named_parameters() if any(nd in n for nd in no_decay)], \"weight_decay\": 0.0},\n",
    "]"
   ]
  },
  {
   "cell_type": "code",
   "execution_count": 86,
   "metadata": {},
   "outputs": [],
   "source": [
    "optimizer = AdamW(optimizer_grouped_parameters, lr=5e-5, eps=1e-8)"
   ]
  },
  {
   "cell_type": "code",
   "execution_count": 158,
   "metadata": {},
   "outputs": [],
   "source": [
    "def mask_tokens(inputs: torch.Tensor, tokenizer: PreTrainedTokenizer, mlm_probability) -> Tuple[torch.Tensor, torch.Tensor]:\n",
    "    \"\"\" Prepare masked tokens inputs/labels for masked language modeling: 80% MASK, 10% random, 10% original. \"\"\"\n",
    "\n",
    "    if tokenizer.mask_token is None:\n",
    "        raise ValueError(\n",
    "            \"This tokenizer does not have a mask token which is necessary for masked language modeling. Remove the --mlm flag if you want to use this tokenizer.\"\n",
    "        )\n",
    "\n",
    "    labels = inputs.clone()\n",
    "    # We sample a few tokens in each sequence for masked-LM training (with probability args.mlm_probability defaults to 0.15 in Bert/RoBERTa)\n",
    "    probability_matrix = torch.full(labels.shape, mlm_probability)\n",
    "    special_tokens_mask = [\n",
    "        tokenizer.get_special_tokens_mask(val, already_has_special_tokens=True) for val in labels.tolist()\n",
    "    ]\n",
    "    probability_matrix.masked_fill_(torch.tensor(special_tokens_mask, dtype=torch.bool), value=0.0)\n",
    "    if tokenizer._pad_token is not None:\n",
    "        padding_mask = labels.eq(tokenizer.pad_token_id)\n",
    "        probability_matrix.masked_fill_(padding_mask, value=0.0)\n",
    "    masked_indices = torch.bernoulli(probability_matrix).bool()\n",
    "    labels[~masked_indices] = -100  # We only compute loss on masked tokens\n",
    "\n",
    "    # 80% of the time, we replace masked input tokens with tokenizer.mask_token ([MASK])\n",
    "    indices_replaced = torch.bernoulli(torch.full(labels.shape, 0.8)).bool() & masked_indices\n",
    "    inputs[indices_replaced] = tokenizer.convert_tokens_to_ids(tokenizer.mask_token)\n",
    "\n",
    "    # 10% of the time, we replace masked input tokens with random word\n",
    "    indices_random = torch.bernoulli(torch.full(labels.shape, 0.5)).bool() & masked_indices & ~indices_replaced\n",
    "    random_words = torch.randint(len(tokenizer), labels.shape, dtype=torch.long)\n",
    "    inputs[indices_random] = random_words[indices_random]\n",
    "\n",
    "    # The rest of the time (10% of the time) we keep the masked input tokens unchanged\n",
    "    return inputs, labels"
   ]
  },
  {
   "cell_type": "code",
   "execution_count": 88,
   "metadata": {},
   "outputs": [],
   "source": [
    "mlm_probability = .15"
   ]
  },
  {
   "cell_type": "code",
   "execution_count": 128,
   "metadata": {},
   "outputs": [
    {
     "data": {
      "text/plain": [
       "(torch.Size([8, 251]), torch.Size([8, 251]))"
      ]
     },
     "execution_count": 128,
     "metadata": {},
     "output_type": "execute_result"
    }
   ],
   "source": [
    "inputs, labels = mask_tokens(next(iter(train_dataloader)), tokenizer, mlm_probability)\n",
    "\n",
    "inputs.shape, labels.shape"
   ]
  },
  {
   "cell_type": "code",
   "execution_count": 129,
   "metadata": {},
   "outputs": [
    {
     "data": {
      "text/plain": [
       "(tensor(10.2231, grad_fn=<NllLossBackward>),\n",
       " tensor([[[ 4.0184e-01, -2.7890e-01,  8.7586e-01,  ..., -3.0042e-01,\n",
       "           -2.7622e-01, -7.9671e-01],\n",
       "          [ 4.3925e-01, -1.1127e+00,  6.7683e-01,  ..., -4.5304e-01,\n",
       "            9.4325e-01, -8.7863e-01],\n",
       "          [ 1.0020e+00, -6.9782e-01,  5.9493e-01,  ..., -1.2418e-02,\n",
       "            3.6302e-01, -4.7675e-01],\n",
       "          ...,\n",
       "          [ 3.4202e-01, -5.0038e-01,  7.6054e-01,  ...,  1.0433e-01,\n",
       "            2.2608e-01, -2.1717e-01],\n",
       "          [ 2.7688e-01, -9.8598e-01,  9.2853e-01,  ...,  2.0952e-02,\n",
       "            2.2493e-01,  1.5478e-01],\n",
       "          [-4.5333e-01, -5.9684e-01,  1.0654e+00,  ..., -1.5712e-01,\n",
       "            2.1360e-01, -2.1896e-01]],\n",
       " \n",
       "         [[-2.6811e-01, -4.5348e-01, -1.4080e-02,  ..., -4.0266e-01,\n",
       "           -4.2741e-01, -3.0381e-01],\n",
       "          [ 5.1049e-01,  5.3902e-02,  7.5591e-01,  ..., -1.1826e-01,\n",
       "           -1.5787e-01, -4.0453e-01],\n",
       "          [ 6.3732e-01, -1.3881e+00, -4.5012e-01,  ..., -1.0668e-01,\n",
       "            5.2471e-01, -6.9721e-01],\n",
       "          ...,\n",
       "          [ 4.4579e-01, -2.8399e-01,  6.0536e-01,  ..., -1.0257e-01,\n",
       "            3.3348e-02,  2.5747e-01],\n",
       "          [ 1.8105e-01, -4.6080e-01,  7.2036e-02,  ..., -5.5756e-01,\n",
       "            1.7292e-01, -8.5951e-02],\n",
       "          [-2.0563e-01, -4.6794e-01,  7.3803e-02,  ...,  1.0168e-01,\n",
       "           -3.9156e-01, -1.0024e+00]],\n",
       " \n",
       "         [[ 1.9205e-01, -4.7351e-01,  7.6785e-01,  ..., -7.2497e-01,\n",
       "           -6.2280e-02, -7.6375e-01],\n",
       "          [ 1.6677e-01, -4.0769e-01,  7.7099e-01,  ..., -1.5857e-01,\n",
       "            4.9136e-01, -3.5516e-01],\n",
       "          [ 5.9626e-01, -8.7039e-01,  9.8337e-01,  ...,  3.9933e-01,\n",
       "            1.7312e-01, -6.8878e-01],\n",
       "          ...,\n",
       "          [ 3.7109e-01, -9.2442e-01,  1.2071e+00,  ..., -1.0415e-01,\n",
       "            5.7272e-01, -7.1857e-01],\n",
       "          [-8.1312e-03, -1.1560e+00,  8.9518e-01,  ..., -2.3645e-01,\n",
       "           -2.9606e-02, -3.0241e-02],\n",
       "          [ 2.4386e-01, -1.2963e+00,  8.2416e-01,  ...,  1.4559e-01,\n",
       "            4.8569e-01,  1.6399e-01]],\n",
       " \n",
       "         ...,\n",
       " \n",
       "         [[ 5.1789e-01, -4.7752e-01,  1.0002e+00,  ..., -1.1229e-01,\n",
       "           -1.8779e-01, -7.0926e-01],\n",
       "          [ 3.7360e-01, -9.9647e-01,  1.1590e+00,  ...,  4.0738e-01,\n",
       "            7.2333e-01, -2.7022e-01],\n",
       "          [ 7.8615e-01, -7.9967e-01,  1.0447e+00,  ..., -3.7545e-01,\n",
       "           -3.2544e-03, -2.4407e-01],\n",
       "          ...,\n",
       "          [ 5.7904e-01, -5.3100e-01,  7.6085e-01,  ..., -4.3298e-01,\n",
       "           -1.0289e-02, -2.6608e-01],\n",
       "          [ 8.2156e-02, -1.0371e+00,  9.5103e-01,  ..., -2.5593e-01,\n",
       "            1.9692e-01, -8.1771e-01],\n",
       "          [ 5.2809e-01, -1.1464e+00,  9.7267e-01,  ..., -1.0310e-01,\n",
       "            1.1569e-03, -3.0754e-01]],\n",
       " \n",
       "         [[ 4.4797e-01, -1.0643e+00,  8.8116e-01,  ..., -2.6759e-01,\n",
       "           -1.1959e-02, -6.7672e-01],\n",
       "          [ 4.5468e-01, -6.0882e-01,  1.0579e+00,  ..., -4.9223e-01,\n",
       "            6.2520e-02, -5.5448e-01],\n",
       "          [ 3.4070e-01, -1.1333e+00,  8.2748e-01,  ...,  1.4812e-02,\n",
       "            3.8180e-01, -5.4014e-01],\n",
       "          ...,\n",
       "          [ 5.4093e-01, -3.9821e-01,  8.3620e-01,  ...,  3.5217e-02,\n",
       "            2.9508e-01, -6.1118e-01],\n",
       "          [-9.9708e-02, -8.1475e-01,  1.5764e+00,  ..., -1.5285e-03,\n",
       "            2.5067e-01,  2.1986e-01],\n",
       "          [ 5.7593e-01, -8.4714e-01,  7.2163e-01,  ...,  1.3284e-01,\n",
       "            2.1332e-01, -7.7527e-01]],\n",
       " \n",
       "         [[ 1.0597e+00, -4.4282e-01,  3.1809e-01,  ..., -3.0470e-01,\n",
       "            5.3589e-02, -8.8694e-01],\n",
       "          [ 2.2773e-01, -7.6506e-01,  6.1169e-01,  ..., -4.5335e-02,\n",
       "           -2.1790e-01, -8.1132e-01],\n",
       "          [ 9.6096e-01, -3.4540e-01,  8.8233e-01,  ...,  2.0026e-01,\n",
       "            5.0917e-01, -4.1002e-01],\n",
       "          ...,\n",
       "          [-2.8383e-01, -8.1564e-01,  1.0590e+00,  ..., -4.3378e-01,\n",
       "           -2.2215e-01,  6.1225e-02],\n",
       "          [ 1.1218e-02, -8.5064e-01,  1.0277e+00,  ...,  2.2863e-02,\n",
       "            3.5290e-01,  8.5566e-02],\n",
       "          [ 5.2147e-01, -7.5497e-01,  7.5511e-01,  ...,  3.7208e-01,\n",
       "            2.6266e-01, -1.4678e-02]]], grad_fn=<AddBackward0>))"
      ]
     },
     "execution_count": 129,
     "metadata": {},
     "output_type": "execute_result"
    }
   ],
   "source": [
    "model(inputs, masked_lm_labels=labels)"
   ]
  },
  {
   "cell_type": "code",
   "execution_count": 159,
   "metadata": {},
   "outputs": [],
   "source": [
    "class CancelTrainException(Exception): pass\n",
    "\n",
    "class BertLRFinder:\n",
    "    def __init__(self, model, tokenizer, data_loader, bs, opt, lr_range=[1e-7,1], max_iter=500):\n",
    "        self.lrs = []\n",
    "        self.losses = []\n",
    "        self.model = model\n",
    "        self.tokenizer = tokenizer\n",
    "        self.data_loader = data_loader\n",
    "        self.bs = bs\n",
    "        self.opt = opt\n",
    "        self.lr_range = lr_range\n",
    "        self.max_iter = max_iter\n",
    "    \n",
    "    def run(self):\n",
    "        best_loss = np.inf\n",
    "        i = 0\n",
    "        while i<self.max_iter:\n",
    "            for batch in self.data_loader:\n",
    "                # get masked input and label\n",
    "                inputs, labels = mask_tokens(batch, self.tokenizer, mlm_probability)\n",
    "                inputs, labels = inputs.to(device), labels.to(device)\n",
    "                \n",
    "                # begin batch\n",
    "                pos = i/self.max_iter\n",
    "                i+=1\n",
    "                lr = self.lr_range[0]*(self.lr_range[1]/self.lr_range[0])**pos\n",
    "                for pg in self.opt.param_groups: pg['lr'] = lr\n",
    "                \n",
    "                loss = model(inputs, masked_lm_labels=labels)[0]\n",
    "                loss.backward()\n",
    "                self.opt.step()\n",
    "                self.opt.zero_grad()\n",
    "              \n",
    "                # after step\n",
    "                if (loss.item() > best_loss*10) or (i==self.max_iter): raise CancelTrainException()\n",
    "                if loss.item() < best_loss: best_loss = loss.item() \n",
    "\n",
    "                # after batch\n",
    "                self.lrs.append(lr)\n",
    "                self.losses.append(loss.item())\n",
    "        \n",
    "    def plot_lr(self):\n",
    "        # plot lr x loss\n",
    "        plt.plot(self.lrs, self.losses)\n",
    "        plt.xscale('log')\n",
    "        \n",
    "    def save_plot(self,dir=Path(\".\"), fig_name=\"lr_x_loss.png\"):\n",
    "        plt.plot(self.lrs, self.losses)\n",
    "        plt.xscale('log')\n",
    "        plt.savefig(dir/fig_name)"
   ]
  },
  {
   "cell_type": "code",
   "execution_count": 160,
   "metadata": {},
   "outputs": [],
   "source": [
    "lr_finder = BertLRFinder(model=model, tokenizer=tokenizer, data_loader=train_dataloader, bs=8, opt=optimizer,\n",
    "                        lr_range=[1e-7,1], max_iter=500)"
   ]
  },
  {
   "cell_type": "code",
   "execution_count": 162,
   "metadata": {},
   "outputs": [],
   "source": [
    "device = torch.device('cuda:0' if torch.cuda.is_available() else 'cpu')"
   ]
  },
  {
   "cell_type": "code",
   "execution_count": 163,
   "metadata": {},
   "outputs": [
    {
     "ename": "CancelTrainException",
     "evalue": "",
     "output_type": "error",
     "traceback": [
      "\u001b[0;31m---------------------------------------------------------------------------\u001b[0m",
      "\u001b[0;31mCancelTrainException\u001b[0m                      Traceback (most recent call last)",
      "\u001b[0;32m<ipython-input-163-5ac256cdd3a5>\u001b[0m in \u001b[0;36m<module>\u001b[0;34m\u001b[0m\n\u001b[0;32m----> 1\u001b[0;31m \u001b[0mlr_finder\u001b[0m\u001b[0;34m.\u001b[0m\u001b[0mrun\u001b[0m\u001b[0;34m(\u001b[0m\u001b[0;34m)\u001b[0m\u001b[0;34m\u001b[0m\u001b[0;34m\u001b[0m\u001b[0m\n\u001b[0m",
      "\u001b[0;32m<ipython-input-159-bd4797a90bfa>\u001b[0m in \u001b[0;36mrun\u001b[0;34m(self)\u001b[0m\n\u001b[1;32m     34\u001b[0m \u001b[0;34m\u001b[0m\u001b[0m\n\u001b[1;32m     35\u001b[0m                 \u001b[0;31m# after step\u001b[0m\u001b[0;34m\u001b[0m\u001b[0;34m\u001b[0m\u001b[0;34m\u001b[0m\u001b[0m\n\u001b[0;32m---> 36\u001b[0;31m                 \u001b[0;32mif\u001b[0m \u001b[0;34m(\u001b[0m\u001b[0mloss\u001b[0m\u001b[0;34m.\u001b[0m\u001b[0mitem\u001b[0m\u001b[0;34m(\u001b[0m\u001b[0;34m)\u001b[0m \u001b[0;34m>\u001b[0m \u001b[0mbest_loss\u001b[0m\u001b[0;34m*\u001b[0m\u001b[0;36m10\u001b[0m\u001b[0;34m)\u001b[0m \u001b[0;32mor\u001b[0m \u001b[0;34m(\u001b[0m\u001b[0mi\u001b[0m\u001b[0;34m==\u001b[0m\u001b[0mself\u001b[0m\u001b[0;34m.\u001b[0m\u001b[0mmax_iter\u001b[0m\u001b[0;34m)\u001b[0m\u001b[0;34m:\u001b[0m \u001b[0;32mraise\u001b[0m \u001b[0mCancelTrainException\u001b[0m\u001b[0;34m(\u001b[0m\u001b[0;34m)\u001b[0m\u001b[0;34m\u001b[0m\u001b[0;34m\u001b[0m\u001b[0m\n\u001b[0m\u001b[1;32m     37\u001b[0m                 \u001b[0;32mif\u001b[0m \u001b[0mloss\u001b[0m\u001b[0;34m.\u001b[0m\u001b[0mitem\u001b[0m\u001b[0;34m(\u001b[0m\u001b[0;34m)\u001b[0m \u001b[0;34m<\u001b[0m \u001b[0mbest_loss\u001b[0m\u001b[0;34m:\u001b[0m \u001b[0mbest_loss\u001b[0m \u001b[0;34m=\u001b[0m \u001b[0mloss\u001b[0m\u001b[0;34m.\u001b[0m\u001b[0mitem\u001b[0m\u001b[0;34m(\u001b[0m\u001b[0;34m)\u001b[0m\u001b[0;34m\u001b[0m\u001b[0;34m\u001b[0m\u001b[0m\n\u001b[1;32m     38\u001b[0m \u001b[0;34m\u001b[0m\u001b[0m\n",
      "\u001b[0;31mCancelTrainException\u001b[0m: "
     ]
    }
   ],
   "source": [
    "lr_finder.run()"
   ]
  },
  {
   "cell_type": "code",
   "execution_count": 164,
   "metadata": {},
   "outputs": [
    {
     "data": {
      "image/png": "[encoded data removed]",
      "text/plain": [
       "<Figure size 432x288 with 1 Axes>"
      ]
     },
     "metadata": {
      "needs_background": "light"
     },
     "output_type": "display_data"
    }
   ],
   "source": [
    "lr_finder.plot_lr()"
   ]
  },
  {
   "cell_type": "code",
   "execution_count": null,
   "metadata": {},
   "outputs": [],
   "source": []
  }
 ],
 "metadata": {
  "kernelspec": {
   "display_name": "Python 3",
   "language": "python",
   "name": "python3"
  },
  "language_info": {
   "codemirror_mode": {
    "name": "ipython",
    "version": 3
   },
   "file_extension": ".py",
   "mimetype": "text/x-python",
   "name": "python",
   "nbconvert_exporter": "python",
   "pygments_lexer": "ipython3",
   "version": "3.7.3"
  },
  "toc": {
   "base_numbering": 1,
   "nav_menu": {},
   "number_sections": true,
   "sideBar": true,
   "skip_h1_title": false,
   "title_cell": "Table of Contents",
   "title_sidebar": "Contents",
   "toc_cell": false,
   "toc_position": {},
   "toc_section_display": true,
   "toc_window_display": false
  }
 },
 "nbformat": 4,
 "nbformat_minor": 2
}
